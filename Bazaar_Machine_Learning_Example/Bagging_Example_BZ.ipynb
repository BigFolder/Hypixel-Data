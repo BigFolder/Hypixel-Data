{
 "cells": [
  {
   "cell_type": "code",
   "execution_count": 42,
   "metadata": {},
   "outputs": [],
   "source": [
    "import pandas as pd\n",
    "import numpy as np\n",
    "import csv\n",
    "import pickle\n",
    "\n",
    "from sklearn.ensemble import BaggingClassifier\n",
    "from sklearn.metrics import f1_score\n",
    "from sklearn.model_selection import train_test_split"
   ]
  },
  {
   "cell_type": "code",
   "execution_count": 43,
   "metadata": {},
   "outputs": [
    {
     "data": {
      "text/html": [
       "<div>\n",
       "<style scoped>\n",
       "    .dataframe tbody tr th:only-of-type {\n",
       "        vertical-align: middle;\n",
       "    }\n",
       "\n",
       "    .dataframe tbody tr th {\n",
       "        vertical-align: top;\n",
       "    }\n",
       "\n",
       "    .dataframe thead th {\n",
       "        text-align: right;\n",
       "    }\n",
       "</style>\n",
       "<table border=\"1\" class=\"dataframe\">\n",
       "  <thead>\n",
       "    <tr style=\"text-align: right;\">\n",
       "      <th></th>\n",
       "      <th>product</th>\n",
       "      <th>buyVolume</th>\n",
       "      <th>buyOrders</th>\n",
       "      <th>buyPrice</th>\n",
       "      <th>buyMovingWeek</th>\n",
       "      <th>sellVolume</th>\n",
       "      <th>sellOrders</th>\n",
       "      <th>sellPrice</th>\n",
       "      <th>sellMovingWeek</th>\n",
       "      <th>RoI</th>\n",
       "      <th>margin</th>\n",
       "      <th>buySellDiff</th>\n",
       "      <th>reliability</th>\n",
       "      <th>avgVolume</th>\n",
       "    </tr>\n",
       "  </thead>\n",
       "  <tbody>\n",
       "    <tr>\n",
       "      <th>0</th>\n",
       "      <td>BROWN_MUSHROOM</td>\n",
       "      <td>217780</td>\n",
       "      <td>138</td>\n",
       "      <td>15.3</td>\n",
       "      <td>7456024</td>\n",
       "      <td>6620173</td>\n",
       "      <td>210</td>\n",
       "      <td>14.2</td>\n",
       "      <td>40351452</td>\n",
       "      <td>5.230769</td>\n",
       "      <td>1.1</td>\n",
       "      <td>-6402393</td>\n",
       "      <td>3</td>\n",
       "      <td>23903738.0</td>\n",
       "    </tr>\n",
       "    <tr>\n",
       "      <th>1</th>\n",
       "      <td>INK_SACK:3</td>\n",
       "      <td>1739583</td>\n",
       "      <td>422</td>\n",
       "      <td>4.3</td>\n",
       "      <td>9320083</td>\n",
       "      <td>2194618</td>\n",
       "      <td>52</td>\n",
       "      <td>3.0</td>\n",
       "      <td>11702987</td>\n",
       "      <td>34.129032</td>\n",
       "      <td>1.3</td>\n",
       "      <td>-455035</td>\n",
       "      <td>3</td>\n",
       "      <td>10511535.0</td>\n",
       "    </tr>\n",
       "    <tr>\n",
       "      <th>2</th>\n",
       "      <td>INK_SACK:4</td>\n",
       "      <td>7274848</td>\n",
       "      <td>511</td>\n",
       "      <td>3.4</td>\n",
       "      <td>30716136</td>\n",
       "      <td>2894940</td>\n",
       "      <td>63</td>\n",
       "      <td>3.1</td>\n",
       "      <td>61348624</td>\n",
       "      <td>2.093750</td>\n",
       "      <td>0.3</td>\n",
       "      <td>4379908</td>\n",
       "      <td>1</td>\n",
       "      <td>46032380.0</td>\n",
       "    </tr>\n",
       "    <tr>\n",
       "      <th>3</th>\n",
       "      <td>TARANTULA_WEB</td>\n",
       "      <td>4690327</td>\n",
       "      <td>490</td>\n",
       "      <td>4.2</td>\n",
       "      <td>7811162</td>\n",
       "      <td>1498041</td>\n",
       "      <td>46</td>\n",
       "      <td>3.4</td>\n",
       "      <td>22561399</td>\n",
       "      <td>15.971429</td>\n",
       "      <td>0.8</td>\n",
       "      <td>3192286</td>\n",
       "      <td>3</td>\n",
       "      <td>15186280.5</td>\n",
       "    </tr>\n",
       "    <tr>\n",
       "      <th>4</th>\n",
       "      <td>CARROT_ITEM</td>\n",
       "      <td>622217</td>\n",
       "      <td>235</td>\n",
       "      <td>4.6</td>\n",
       "      <td>40997251</td>\n",
       "      <td>3776734</td>\n",
       "      <td>104</td>\n",
       "      <td>3.5</td>\n",
       "      <td>46561750</td>\n",
       "      <td>23.750000</td>\n",
       "      <td>1.1</td>\n",
       "      <td>-3154517</td>\n",
       "      <td>3</td>\n",
       "      <td>43779500.5</td>\n",
       "    </tr>\n",
       "  </tbody>\n",
       "</table>\n",
       "</div>"
      ],
      "text/plain": [
       "          product  buyVolume  buyOrders  buyPrice  buyMovingWeek  sellVolume  \\\n",
       "0  BROWN_MUSHROOM     217780        138      15.3        7456024     6620173   \n",
       "1      INK_SACK:3    1739583        422       4.3        9320083     2194618   \n",
       "2      INK_SACK:4    7274848        511       3.4       30716136     2894940   \n",
       "3   TARANTULA_WEB    4690327        490       4.2        7811162     1498041   \n",
       "4     CARROT_ITEM     622217        235       4.6       40997251     3776734   \n",
       "\n",
       "   sellOrders  sellPrice  sellMovingWeek        RoI  margin  buySellDiff  \\\n",
       "0         210       14.2        40351452   5.230769     1.1     -6402393   \n",
       "1          52        3.0        11702987  34.129032     1.3      -455035   \n",
       "2          63        3.1        61348624   2.093750     0.3      4379908   \n",
       "3          46        3.4        22561399  15.971429     0.8      3192286   \n",
       "4         104        3.5        46561750  23.750000     1.1     -3154517   \n",
       "\n",
       "   reliability   avgVolume  \n",
       "0            3  23903738.0  \n",
       "1            3  10511535.0  \n",
       "2            1  46032380.0  \n",
       "3            3  15186280.5  \n",
       "4            3  43779500.5  "
      ]
     },
     "execution_count": 43,
     "metadata": {},
     "output_type": "execute_result"
    }
   ],
   "source": [
    "data = pd.read_csv(\"bzData.csv\")\n",
    "data.head()"
   ]
  },
  {
   "cell_type": "code",
   "execution_count": 44,
   "metadata": {},
   "outputs": [],
   "source": [
    "y = data['reliability']\n",
    "X = data.drop(['reliability', 'product'], axis=1)"
   ]
  },
  {
   "cell_type": "code",
   "execution_count": 49,
   "metadata": {},
   "outputs": [
    {
     "data": {
      "text/plain": [
       "BaggingClassifier(base_estimator=None, bootstrap=True, bootstrap_features=False,\n",
       "                  max_features=4, max_samples=1.0, n_estimators=10, n_jobs=None,\n",
       "                  oob_score=False, random_state=26, verbose=0,\n",
       "                  warm_start=False)"
      ]
     },
     "execution_count": 49,
     "metadata": {},
     "output_type": "execute_result"
    }
   ],
   "source": [
    "# Create an instance of Logistic Regression Classifier and fit the training data.\n",
    "X_train, X_test, y_train, y_test = train_test_split(X, y, test_size=0.33, random_state=26)\n",
    "\n",
    "model = BaggingClassifier(n_estimators=10, max_features=4, random_state= 26)\n",
    "model.fit(X_train, y_train)\n",
    "\n"
   ]
  },
  {
   "cell_type": "code",
   "execution_count": 57,
   "metadata": {},
   "outputs": [
    {
     "name": "stdout",
     "output_type": "stream",
     "text": [
      "0.9944087875222775\n"
     ]
    }
   ],
   "source": [
    "pred = model.predict(X_test)\n",
    "f1_BC = f1_score(y_test, pred, average='micro')\n",
    "print(f1_BC)"
   ]
  },
  {
   "cell_type": "code",
   "execution_count": null,
   "metadata": {},
   "outputs": [],
   "source": []
  },
  {
   "cell_type": "code",
   "execution_count": null,
   "metadata": {},
   "outputs": [],
   "source": []
  }
 ],
 "metadata": {
  "kernelspec": {
   "display_name": "Python 3",
   "language": "python",
   "name": "python3"
  },
  "language_info": {
   "codemirror_mode": {
    "name": "ipython",
    "version": 3
   },
   "file_extension": ".py",
   "mimetype": "text/x-python",
   "name": "python",
   "nbconvert_exporter": "python",
   "pygments_lexer": "ipython3",
   "version": "3.7.6"
  }
 },
 "nbformat": 4,
 "nbformat_minor": 4
}
